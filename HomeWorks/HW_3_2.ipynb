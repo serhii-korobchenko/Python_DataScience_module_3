{
  "nbformat": 4,
  "nbformat_minor": 0,
  "metadata": {
    "colab": {
      "provenance": []
    },
    "kernelspec": {
      "name": "python3",
      "display_name": "Python 3"
    },
    "language_info": {
      "name": "python"
    }
  },
  "cells": [
    {
      "cell_type": "code",
      "execution_count": null,
      "metadata": {
        "id": "tL0XHNIL2iQW"
      },
      "outputs": [],
      "source": [
        "import matplotlib.pyplot as plt\n",
        "import random\n",
        "%matplotlib inline"
      ]
    },
    {
      "cell_type": "markdown",
      "source": [
        "Initial points:\n",
        "x1= 0, y1=0, x2=2, y2=0, x3=1, y3=1"
      ],
      "metadata": {
        "id": "Zh85bc5z22oH"
      }
    },
    {
      "cell_type": "markdown",
      "source": [
        "Midle point function:"
      ],
      "metadata": {
        "id": "l0LGDYzIDqmn"
      }
    },
    {
      "cell_type": "code",
      "source": [
        "def get_midpoint(point1, point2):\n",
        "    x = (point1[0] + point2[0]) / 2\n",
        "    y = (point1[1] + point2[1]) / 2\n",
        "    return [x, y]\n",
        "\n",
        "\n"
      ],
      "metadata": {
        "id": "bOf1cOqaDP8Q"
      },
      "execution_count": null,
      "outputs": []
    },
    {
      "cell_type": "markdown",
      "source": [
        "Sierpiński recursive function:"
      ],
      "metadata": {
        "id": "b_mI4UvtC9FW"
      }
    },
    {
      "cell_type": "code",
      "source": [
        "def sierp(points, depth):\n",
        "    if depth == 0:\n",
        "        plt.scatter([points[0][0], points[1][0], points[2][0]],\n",
        "                    [points[0][1], points[1][1], points[2][1]],\n",
        "                    s=5, color='b')\n",
        "    else:\n",
        "        sierp([points[0], get_midpoint(points[0], points[1]), get_midpoint(points[0], points[2])], depth - 1)\n",
        "        sierp([points[1], get_midpoint(points[1], points[2]), get_midpoint(points[1], points[0])], depth - 1)\n",
        "        sierp([points[2], get_midpoint(points[2], points[0]), get_midpoint(points[2], points[1])], depth - 1)\n",
        "\n",
        "\n"
      ],
      "metadata": {
        "id": "NOBuuLY63Gtd"
      },
      "execution_count": null,
      "outputs": []
    },
    {
      "cell_type": "markdown",
      "source": [
        "Grafical part:"
      ],
      "metadata": {
        "id": "p42LmsJBDx3X"
      }
    },
    {
      "cell_type": "code",
      "source": [
        "plt.figure(figsize=(8, 8))\n",
        "points = [[0, 0], [2, 0], [1, 1]]\n",
        "sierp(points, 6)\n",
        "plt.show()"
      ],
      "metadata": {
        "colab": {
          "base_uri": "https://localhost:8080/",
          "height": 483
        },
        "id": "0JgTUCGzDcmT",
        "outputId": "012957b6-f4b9-4e64-bb92-3835ff31173f"
      },
      "execution_count": null,
      "outputs": [
        {
          "output_type": "display_data",
          "data": {
            "text/plain": [
              "<Figure size 576x576 with 1 Axes>"
            ],
            "image/png": "[encoded data removed]"
          },
          "metadata": {
            "needs_background": "light"
          }
        }
      ]
    }
  ]
}